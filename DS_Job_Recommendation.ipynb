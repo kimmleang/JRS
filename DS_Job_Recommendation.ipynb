{
 "cells": [
  {
   "cell_type": "markdown",
   "id": "2740fa1b-a8b8-4ad8-b382-aebe8baf6be4",
   "metadata": {},
   "source": [
    "# Project: Job Recommendation System!"
   ]
  },
  {
   "cell_type": "markdown",
   "id": "c718ebc2-a6bb-4a85-83f4-a8d7d411f260",
   "metadata": {},
   "source": [
    "#### Group 14, \n",
    "Members: Horm Mannchhi\n",
    "         Sombath Vinun\n",
    "         John Kimleang"
   ]
  },
  {
   "cell_type": "code",
   "execution_count": 160,
   "id": "e424869e-e3b0-4421-b1db-c1ef9730948b",
   "metadata": {},
   "outputs": [],
   "source": [
    "# Data Preprocessing\n",
    "import pandas as pd\n",
    "import numpy as np\n",
    "from sklearn.feature_extraction.text import TfidfVectorizer\n",
    "from sklearn.metrics.pairwise import cosine_similarity\n",
    "from sklearn.decomposition import TruncatedSVD\n",
    "import matplotlib.pyplot as plt\n",
    "from wordcloud import WordCloud\n",
    "from sklearn.metrics import precision_score, recall_score, f1_score\n",
    "import nltk\n",
    "from nltk.corpus import stopwords\n",
    "from nltk.tokenize import word_tokenize\n",
    "from nltk.stem import WordNetLemmatizer\n",
    "from scipy.stats import ttest_rel\n",
    "\n",
    "# dowload nltk resources\n",
    "# nltk.download('punkt')\n",
    "# nltk.download('stopwords')\n",
    "# nltk.download('wordnet')\n",
    "\n",
    "# Load the job dataset\n",
    "job_data = pd.read_csv('job_dataset.csv')\n",
    "job_data = job_data.apply(lambda col: col.fillna('Not specified') if col.isnull().any() else col)"
   ]
  },
  {
   "cell_type": "markdown",
   "id": "0baf76ab-c6ee-4cd8-b9d2-0c26fb98d6e6",
   "metadata": {},
   "source": [
    "## Preprocess job dataset\n"
   ]
  },
  {
   "cell_type": "code",
   "execution_count": 161,
   "id": "34f9307b-c326-425e-b266-18537f1ab287",
   "metadata": {},
   "outputs": [],
   "source": [
    "def preprocess_text(text):\n",
    "    if pd.isnull(text):\n",
    "        return ''\n",
    "    # Tokenize, remove stopwords, and lemmatize\n",
    "    tokens = word_tokenize(text.lower())\n",
    "    stop_words = set(stopwords.words('english'))\n",
    "    lemmatizer = WordNetLemmatizer()\n",
    "    tokens = [lemmatizer.lemmatize(word) for word in tokens if word.isalnum() and word not in stop_words]\n",
    "    return ' '.join(tokens)\n",
    "\n",
    "job_data['Processed_Requirements'] = job_data['Requirements'].apply(preprocess_text)\n",
    "job_data['Processed_Experience'] = job_data['Experience'].apply(preprocess_text)\n"
   ]
  },
  {
   "cell_type": "markdown",
   "id": "e2916854-2a7e-4da5-831c-66986e332a91",
   "metadata": {},
   "source": [
    "## User Input"
   ]
  },
  {
   "cell_type": "code",
   "execution_count": 162,
   "id": "50591617-7315-4205-803f-755cadf65a93",
   "metadata": {},
   "outputs": [],
   "source": [
    "# Function to collect and process user input\n",
    "def get_user_input():\n",
    "    print(\"Enter your skills (comma-separated):\")\n",
    "    user_skills = input().split(',')\n",
    "    \n",
    "    # Use .apply() to process each skill\n",
    "    user_skills = pd.Series(user_skills).apply(preprocess_text).tolist()\n",
    "\n",
    "    print(\"Enter your years of experience:\")\n",
    "    user_experience = int(input())\n",
    "\n",
    "    return user_skills, user_experience\n",
    "\n",
    "def process_user_input(user_skills):\n",
    "    return ' '.join(user_skills)\n"
   ]
  },
  {
   "cell_type": "markdown",
   "id": "ad83f4b2-c2f4-4347-b3cc-144dcea2aa90",
   "metadata": {},
   "source": [
    "### Data Training and Recommendation\n",
    "# ---------------------------------"
   ]
  },
  {
   "cell_type": "code",
   "execution_count": 163,
   "id": "34444692-c1b7-43ba-8f76-aedf698b1067",
   "metadata": {},
   "outputs": [],
   "source": [
    "# Random Recommendations: Simple TF-IDF Model\n",
    "def recommend_jobs_random(user_skills, job_data, top_n=5):\n",
    "    user_skills_text = process_user_input(user_skills)\n",
    "    \n",
    "    # Use a basic TF-IDF vectorizer with random selection\n",
    "    vectorizer = TfidfVectorizer()\n",
    "    job_vectors = vectorizer.fit_transform(job_data['Processed_Experience'])\n",
    "    user_vector = vectorizer.transform([user_skills_text])\n",
    "    \n",
    "    # Compute cosine similarity\n",
    "    similarities = cosine_similarity(user_vector, job_vectors).flatten()\n",
    "    \n",
    "    # Get top N random recommendations (not leveraging combined job fields or processed requirements)\n",
    "    top_indices = similarities.argsort()[-top_n:][::-1]\n",
    "    recommendations = job_data.iloc[top_indices].copy()\n",
    "    recommendations['Random_Similarity'] = similarities[top_indices]\n",
    "    \n",
    "    return recommendations"
   ]
  },
  {
   "cell_type": "code",
   "execution_count": 164,
   "id": "5bd91782-7583-4132-ba8b-7f4a16a1a16a",
   "metadata": {},
   "outputs": [],
   "source": [
    "# Content-Based Recommendation\n",
    "def recommend_jobs_content_based(user_skills, job_data, top_n=5):\n",
    "    user_skills_text = process_user_input(user_skills)\n",
    "    \n",
    "    # Combine job fields into a single searchable text\n",
    "    job_data['Combined_Text'] = job_data['Processed_Requirements'] + ' ' + job_data['Processed_Experience']\n",
    "    \n",
    "    # TF-IDF Vectorization\n",
    "    vectorizer = TfidfVectorizer()\n",
    "    job_vectors = vectorizer.fit_transform(job_data['Combined_Text'])\n",
    "    user_vector = vectorizer.transform([user_skills_text])\n",
    "    \n",
    "    # Compute cosine similarity\n",
    "    similarities = cosine_similarity(user_vector, job_vectors).flatten()\n",
    "    \n",
    "    # Get top N recommendations\n",
    "    top_indices = similarities.argsort()[-top_n:][::-1]\n",
    "    recommendations = job_data.iloc[top_indices].copy()\n",
    "    recommendations['Similarity'] = similarities[top_indices]\n",
    "    \n",
    "    return recommendations"
   ]
  },
  {
   "cell_type": "code",
   "execution_count": 165,
   "id": "9ccdb937-0b59-4053-b0dc-dc83cec84300",
   "metadata": {},
   "outputs": [],
   "source": [
    "# Collaborative Filtering\n",
    "def collaborative_filtering(user_skills, job_data, top_n=5):\n",
    "    user_skills_text = process_user_input(user_skills)\n",
    "    job_data['Combined_Text'] = job_data['Processed_Requirements'] + ' ' + job_data['Processed_Experience']\n",
    "    vectorizer = TfidfVectorizer()\n",
    "    job_vectors = vectorizer.fit_transform(job_data['Combined_Text'])\n",
    "    \n",
    "    user_vector = vectorizer.transform([process_user_input(user_skills)])\n",
    "    similarities = cosine_similarity(user_vector, job_vectors).flatten()\n",
    "    \n",
    "    # Get top N recommendations\n",
    "    top_indices = similarities.argsort()[-top_n:][::-1]\n",
    "    recommendations = job_data.iloc[top_indices].copy()\n",
    "    recommendations['Collaborative_Similarity'] = similarities[top_indices]\n",
    "    \n",
    "    return recommendations"
   ]
  },
  {
   "cell_type": "markdown",
   "id": "9e303c4e-f656-44a8-97e6-5658be26e1fd",
   "metadata": {},
   "source": [
    "## Evaluation model"
   ]
  },
  {
   "cell_type": "code",
   "execution_count": 166,
   "id": "ab044511-0089-4202-b6e2-65cbb1108327",
   "metadata": {},
   "outputs": [],
   "source": [
    "# Hybrid Model: Content-Based + Collaborative\n",
    "def recommend_jobs_hybrid(user_skills, job_data, top_n=5, alpha=0.5):\n",
    "    content_recommendations = recommend_jobs_content_based(user_skills, job_data, top_n)\n",
    "    collaborative_recommendations = collaborative_filtering(user_skills, job_data, top_n)\n",
    "    \n",
    "    # Merge content-based and collaborative results\n",
    "    hybrid_recommendations = pd.merge(content_recommendations, collaborative_recommendations, on='Title', how='inner')\n",
    "    \n",
    "    # Combine similarities with a weight parameter (alpha = 0.5 for equal weighting)\n",
    "    hybrid_recommendations['Final_Score'] = alpha * hybrid_recommendations['Similarity'] + (1 - alpha) * hybrid_recommendations['Collaborative_Similarity']\n",
    "    \n",
    "    # Sort by the final score\n",
    "    hybrid_recommendations = hybrid_recommendations.sort_values(by='Final_Score', ascending=False).head(top_n)\n",
    "    \n",
    "    return hybrid_recommendations"
   ]
  },
  {
   "cell_type": "code",
   "execution_count": 167,
   "id": "63a13338-1914-4c2a-8705-d41fd192880f",
   "metadata": {},
   "outputs": [],
   "source": [
    "\n",
    "# Function to evaluate models with relaxed matching\n",
    "def evaluate_models(user_skills, job_data, ground_truth, top_n=5):\n",
    "    results = {}\n",
    "\n",
    "    # Random_model Evaluation\n",
    "    random_recommendations = recommend_jobs_random(user_skills, job_data, top_n)\n",
    "    random_pred = random_recommendations['Title'].tolist()\n",
    "    \n",
    "    # Relaxed matching: Check if any word in predicted title matches ground truth\n",
    "    def relaxed_matching(pred_titles, true_titles):\n",
    "        matches = []\n",
    "        for pred in pred_titles:\n",
    "            match_found = False\n",
    "            for true in true_titles:\n",
    "                if any(word in true.lower() for word in pred.lower().split()):\n",
    "                    match_found = True\n",
    "                    break\n",
    "            matches.append(match_found)\n",
    "        return matches\n",
    "\n",
    "    random_match = relaxed_matching(random_pred, ground_truth)\n",
    "\n",
    "    results['Random_model'] = {\n",
    "        'Precision': precision_score(random_match, [1] * len(random_match), average='macro', zero_division=0),\n",
    "        'Recall': recall_score(random_match, [1] * len(random_match), average='macro', zero_division=0),\n",
    "        'F1': f1_score(random_match, [1] * len(random_match), average='macro', zero_division=0)\n",
    "    }\n",
    "\n",
    "    # Hybrid Evaluation\n",
    "    hybrid_recommendations = recommend_jobs_hybrid(user_skills, job_data, top_n)\n",
    "    hybrid_pred = hybrid_recommendations['Title'].tolist()\n",
    "    \n",
    "    hybrid_match = relaxed_matching(hybrid_pred, ground_truth)\n",
    "\n",
    "    results['Hybrid'] = {\n",
    "        'Precision': precision_score(hybrid_match, [1] * len(hybrid_match), average='macro', zero_division=0),\n",
    "        'Recall': recall_score(hybrid_match, [1] * len(hybrid_match), average='macro', zero_division=0),\n",
    "        'F1': f1_score(hybrid_match, [1] * len(hybrid_match), average='macro', zero_division=0)\n",
    "    }\n",
    "\n",
    "    # Perform statistical test (paired t-test or other hypothesis tests) if necessary\n",
    "    # Example: Compare the means of precision, recall, and f1 scores\n",
    "    from scipy.stats import ttest_rel\n",
    "    \n",
    "    precision_diff = results['Random_model']['Precision'] - results['Hybrid']['Precision']\n",
    "    recall_diff = results['Random_model']['Recall'] - results['Hybrid']['Recall']\n",
    "    f1_diff = results['Random_model']['F1'] - results['Hybrid']['F1']\n",
    "\n",
    "    # Store the results for interpretation\n",
    "    results['Comparison'] = {\n",
    "        'Precision Difference': precision_diff,\n",
    "        'Recall Difference': recall_diff,\n",
    "        'F1 Difference': f1_diff\n",
    "    }\n",
    "\n",
    "    return results\n",
    "\n",
    "# Function to plot evaluation results\n",
    "def plot_evaluation_results(results):\n",
    "    # Convert the results into a DataFrame for easy plotting\n",
    "    metrics = ['Precision', 'Recall', 'F1']\n",
    "    \n",
    "    if 'Random_model' in results and 'Hybrid' in results:\n",
    "        random_based_scores = [results['Random_model'][metric] for metric in metrics]\n",
    "        hybrid_scores = [results['Hybrid'][metric] for metric in metrics]\n",
    "\n",
    "        # Check if there are any NaN or None values\n",
    "        if any(np.isnan(random_based_scores)) or any(np.isnan(hybrid_scores)):\n",
    "            print(\"Warning: Some metrics contain invalid (NaN) values. Check your evaluation.\")\n",
    "            return\n",
    "\n",
    "        # Create the DataFrame for plotting\n",
    "        df = pd.DataFrame({\n",
    "            'Metric': metrics,\n",
    "            'Random_model': random_based_scores,\n",
    "            'Hybrid': hybrid_scores\n",
    "        })\n",
    "\n",
    "        df.set_index('Metric', inplace=True)\n",
    "\n",
    "        # Plot the results\n",
    "        df.plot(kind='bar', figsize=(8, 4), color=['skyblue', 'lightgreen'])\n",
    "        plt.title('Model Evaluation Comparison (Random Model vs Hybrid)')\n",
    "        plt.ylabel('Score')\n",
    "        plt.xlabel('Evaluation Metric')\n",
    "        plt.xticks(rotation=0)\n",
    "        plt.tight_layout()\n",
    "        plt.show()\n",
    "\n",
    "    else:\n",
    "        print(\"Error: Evaluation results are incomplete or invalid.\")\n",
    "\n"
   ]
  },
  {
   "cell_type": "markdown",
   "id": "0059db21-664f-4a2c-8fe1-ef42eb59cbde",
   "metadata": {},
   "source": [
    "## Data Visualization\n",
    "# ---------------------------------"
   ]
  },
  {
   "cell_type": "code",
   "execution_count": 168,
   "id": "7bb3067f-5bcb-4a47-abf0-8ea4ddd9de14",
   "metadata": {},
   "outputs": [],
   "source": [
    "def plot_skill_demand(job_data):\n",
    "    all_skills = ' '.join(job_data['Processed_Requirements']).split()\n",
    "    skill_counts = pd.Series(all_skills).value_counts().head(10)\n",
    "    \n",
    "    plt.figure(figsize=(10, 6))\n",
    "    skill_counts.plot(kind='bar', color='skyblue')\n",
    "    plt.title('Top 10 In-Demand Skills')\n",
    "    plt.xlabel('Skills')\n",
    "    plt.ylabel('Frequency')\n",
    "    plt.show()"
   ]
  },
  {
   "cell_type": "code",
   "execution_count": 169,
   "id": "63b8a15e-5bcc-4288-beb4-d3c08cbadd7c",
   "metadata": {},
   "outputs": [],
   "source": [
    "def plot_popular_jobs_wordcloud(job_data):\n",
    "    job_titles = ' '.join(job_data['Title'].dropna().tolist())\n",
    "    wordcloud = WordCloud(width=400, height=200, background_color='white').generate(job_titles)\n",
    "    \n",
    "    plt.figure(figsize=(8, 4))\n",
    "    plt.imshow(wordcloud, interpolation='bilinear')\n",
    "    plt.axis('off')\n",
    "    plt.title('Most Popular Job Titles', fontsize=16)\n",
    "    plt.show()\n",
    "\n",
    "# plot_skill_demand(job_data)\n",
    "# plot_popular_jobs_wordcloud(job_data)\n"
   ]
  },
  {
   "cell_type": "markdown",
   "id": "b84b63a7-62a6-46e5-befa-abb65d6bcbab",
   "metadata": {},
   "source": [
    "### Testing And Demo"
   ]
  },
  {
   "cell_type": "code",
   "execution_count": 172,
   "id": "55d7cea9-b2d9-4bd4-87ba-783cf766951e",
   "metadata": {},
   "outputs": [
    {
     "name": "stdout",
     "output_type": "stream",
     "text": [
      "Enter your skills (comma-separated):\n"
     ]
    },
    {
     "name": "stdin",
     "output_type": "stream",
     "text": [
      " Management, financial\n"
     ]
    },
    {
     "name": "stdout",
     "output_type": "stream",
     "text": [
      "Enter your years of experience:\n"
     ]
    },
    {
     "name": "stdin",
     "output_type": "stream",
     "text": [
      " 1\n"
     ]
    },
    {
     "name": "stdout",
     "output_type": "stream",
     "text": [
      "0           Finance Manager\n",
      "1    Senior Finance officer\n",
      "2                Accountant\n",
      "3                Accountant\n",
      "4                Accountant\n",
      "Name: Title, dtype: object\n",
      "Evaluation Results: {'Random_model': {'Precision': 0.1, 'Recall': 0.5, 'F1': 0.16666666666666666}, 'Hybrid': {'Precision': 0.0, 'Recall': 0.0, 'F1': 0.0}, 'Comparison': {'Precision Difference': 0.1, 'Recall Difference': 0.5, 'F1 Difference': 0.16666666666666666}}\n"
     ]
    },
    {
     "data": {
      "image/png": "[encoded data removed]",
      "text/plain": [
       "<Figure size 800x400 with 1 Axes>"
      ]
     },
     "metadata": {},
     "output_type": "display_data"
    }
   ],
   "source": [
    "\n",
    "print(\"Enter your skills (comma-separated):\")\n",
    "user_skills_input = input().split(',')\n",
    "user_skills_input = [skill.strip().lower() for skill in user_skills_input]\n",
    "\n",
    "print(\"Enter your years of experience:\")\n",
    "user_experience_input = input()\n",
    "\n",
    "job_data['Processed_Requirements'] = job_data['Requirements'].apply(preprocess_text)\n",
    "job_data['Processed_Experience'] = job_data['Experience'].apply(preprocess_text)\n",
    "\n",
    "ground_truth = ['AI Specialist', 'Data Analyst', 'National Data Analyst', 'Python Developer', 'Data Scientist'] \n",
    "\n",
    "recommendation_jobs = recommend_jobs_hybrid(user_skills_input, job_data)\n",
    "\n",
    "print(recommendation_jobs['Title'])\n",
    "\n",
    "# Evaluate models\n",
    "evaluation_results = evaluate_models(user_skills_input, job_data, ground_truth, top_n=5)\n",
    "\n",
    "# plot_skill = plot_skill_demand(job_data)\n",
    "# print(\"plot_skill:\", plot_skill)\n",
    "\n",
    "# plot_popular_jobs = plot_popular_jobs_wordcloud(job_data)\n",
    "# print(\"plot_popular_jobs:\", plot_popular_jobs)\n",
    "\n",
    "print(\"Evaluation Results:\", evaluation_results)\n",
    "\n",
    "plot_evaluation_results(evaluation_results)\n"
   ]
  },
  {
   "cell_type": "code",
   "execution_count": null,
   "id": "784c28be-7d6a-4940-a3ac-b836e451b931",
   "metadata": {},
   "outputs": [],
   "source": []
  },
  {
   "cell_type": "code",
   "execution_count": null,
   "id": "530ffa47-5c42-4c73-a7af-da43c893cc4d",
   "metadata": {},
   "outputs": [],
   "source": []
  },
  {
   "cell_type": "code",
   "execution_count": null,
   "id": "f5c7f7eb-ec25-4333-bcbf-adaabf81c8d0",
   "metadata": {},
   "outputs": [],
   "source": []
  }
 ],
 "metadata": {
  "kernelspec": {
   "display_name": "Python 3 (ipykernel)",
   "language": "python",
   "name": "python3"
  },
  "language_info": {
   "codemirror_mode": {
    "name": "ipython",
    "version": 3
   },
   "file_extension": ".py",
   "mimetype": "text/x-python",
   "name": "python",
   "nbconvert_exporter": "python",
   "pygments_lexer": "ipython3",
   "version": "3.9.19"
  }
 },
 "nbformat": 4,
 "nbformat_minor": 5
}
